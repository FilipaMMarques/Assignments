{
 "cells": [
  {
   "cell_type": "code",
   "execution_count": 1,
   "metadata": {},
   "outputs": [],
   "source": [
    "import pandas as pd\n",
    "import pathlib\n",
    "\n",
    "#PROJECT_DIR=pathlib.Path(__file__)\n",
    "def clean_data():\n",
    "    df=pd.read_csv(data, sep=\"\\t|,\",engine='python')\n",
    "    df.rename(columns={\"geo\\\\time\":\"region\"},inplace=True)\n",
    "    df_unpivot = pd.melt(df, id_vars=['unit',\"sex\", \"age\", \"region\"], var_name='year')\n",
    "    df_unpivot=clean_data(\"../life_expectancy/data/eu_life_expectancy_raw.tsv\")\n",
    "    df_unpivot.dtypes\n",
    "    df_unpivot[\"year\"]=df_unpivot[\"year\"].astype(int)\n",
    "    df_unpivot.value.unique()\n",
    "    df_unpivot=df_unpivot[df_unpivot.value!=': ']\n",
    "    df_unpivot=df_unpivot[df_unpivot.value!=':']\n",
    "    df_unpivot['value'] = df_unpivot['value'].map(lambda x: x.lstrip('').rstrip(' epb'))\n",
    "    df_unpivot=df_unpivot[df_unpivot['region']==\"PT\"]\n",
    "    df_unpivot[\"value\"]=df_unpivot[\"value\"].astype(float)\n",
    "    df_unpivot.to_csv(\"../life_expectancy/data/pt_life_expectancy.csv\")\n",
    "    return df_unpivot\n",
    "\n"
   ]
  },
  {
   "cell_type": "code",
   "execution_count": null,
   "metadata": {},
   "outputs": [
    {
     "ename": "",
     "evalue": "",
     "output_type": "error",
     "traceback": [
      "\u001b[1;31mRunning cells with 'Python 3.11.2 ('foundations')' requires ipykernel package.\n",
      "\u001b[1;31mRun the following command to install 'ipykernel' into the Python environment. \n",
      "\u001b[1;31mCommand: 'conda install -n foundations ipykernel --update-deps --force-reinstall'"
     ]
    }
   ],
   "source": []
  },
  {
   "cell_type": "code",
   "execution_count": null,
   "metadata": {},
   "outputs": [],
   "source": []
  }
 ],
 "metadata": {
  "kernelspec": {
   "display_name": "Python 3.9.7 64-bit",
   "language": "python",
   "name": "python3"
  },
  "language_info": {
   "codemirror_mode": {
    "name": "ipython",
    "version": 3
   },
   "file_extension": ".py",
   "mimetype": "text/x-python",
   "name": "python",
   "nbconvert_exporter": "python",
   "pygments_lexer": "ipython3",
   "version": "3.9.7"
  },
  "orig_nbformat": 4,
  "vscode": {
   "interpreter": {
    "hash": "ef3b4378ff47417e3809ab058ac151279b2abf129a660e2979f4f891e5dcaac0"
   }
  }
 },
 "nbformat": 4,
 "nbformat_minor": 2
}
